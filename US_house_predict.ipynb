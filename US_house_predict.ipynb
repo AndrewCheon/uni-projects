{
 "cells": [
  {
   "cell_type": "markdown",
   "id": "1995cc15",
   "metadata": {},
   "source": [
    "SID: 480564766"
   ]
  },
  {
   "cell_type": "code",
   "execution_count": 1,
   "id": "866abea9",
   "metadata": {},
   "outputs": [],
   "source": [
    "import pandas as pd\n",
    "import matplotlib.pyplot as plt\n",
    "import numpy as np\n",
    "import csv\n",
    "\n",
    "from sklearn.neighbors import KNeighborsClassifier\n",
    "from sklearn.linear_model import LinearRegression, Ridge, RidgeCV\n",
    "from sklearn.model_selection import KFold, cross_val_score, LeaveOneOut\n",
    "from sklearn.preprocessing import StandardScaler\n",
    "from sklearn.metrics import mean_absolute_error, mean_squared_error"
   ]
  },
  {
   "cell_type": "markdown",
   "id": "1b281b06",
   "metadata": {},
   "source": [
    "Load the train dataset and set as train \n"
   ]
  },
  {
   "cell_type": "code",
   "execution_count": 2,
   "id": "47c66c83",
   "metadata": {},
   "outputs": [],
   "source": [
    "train = pd.read_csv('train.csv')\n"
   ]
  },
  {
   "cell_type": "markdown",
   "id": "5c865258",
   "metadata": {},
   "source": [
    "MSSubClass converted to a string as it is categorical variable \n",
    "\n",
    "Set string to be all categorical variables in train. Replace all NaN values with 'None'.\n",
    "\n",
    "Create Dummy variable using the data subset string. Set the new data set as dummy_string\n"
   ]
  },
  {
   "cell_type": "code",
   "execution_count": 3,
   "id": "39577b52",
   "metadata": {},
   "outputs": [],
   "source": [
    "train['MSSubClass'] = train['MSSubClass'].apply(str)\n",
    "\n",
    "string = train.select_dtypes('object')\n",
    "string = string.replace(np.nan,'None')\n",
    "dummy_string = pd.get_dummies(string)\n"
   ]
  },
  {
   "cell_type": "markdown",
   "id": "9ad87f5d",
   "metadata": {},
   "source": [
    "Set num to be all numerical variables in train\n",
    "\n",
    "Replace all NaN values with 0\n",
    "\n",
    "join num and dummy_string to create modified version of the training dataset. Set this new dataset as x\n"
   ]
  },
  {
   "cell_type": "code",
   "execution_count": 4,
   "id": "4a0494f8",
   "metadata": {},
   "outputs": [],
   "source": [
    "num = train.select_dtypes('number')\n",
    "num = num.replace(np.nan, 0)\n",
    "\n",
    "x = pd.concat([dummy_string,num], axis=1)\n"
   ]
  },
  {
   "cell_type": "markdown",
   "id": "189de29c",
   "metadata": {},
   "source": [
    "Sort all variables in descending order by correlation with Saleprice. Set this dataset as x_corr\n",
    "\n",
    "Keep all variables that are sufficiently correlated with Saleprice using 0.4 as a threshold. Set this as x_reduced \n"
   ]
  },
  {
   "cell_type": "code",
   "execution_count": 5,
   "id": "7743c38b",
   "metadata": {},
   "outputs": [],
   "source": [
    "x_corr = abs(x.corr()).sort_values(by='SalePrice', ascending=False)[['SalePrice']]\n",
    "\n",
    "x_reduced = x[x_corr[x_corr['SalePrice']>0.4].index.tolist()]\n"
   ]
  },
  {
   "cell_type": "markdown",
   "id": "fef7e5d3",
   "metadata": {},
   "source": [
    "Remove any outlier data that has x_reduced.GrLivArea >= 4500 from x_reduced \n",
    "\n",
    "remove SalePrice from x_reduced\n"
   ]
  },
  {
   "cell_type": "code",
   "execution_count": 6,
   "id": "71d507e5",
   "metadata": {},
   "outputs": [],
   "source": [
    "x_reduced = x_reduced[x_reduced.GrLivArea < 4500]\n",
    "\n",
    "del x_reduced['SalePrice']\n"
   ]
  },
  {
   "cell_type": "markdown",
   "id": "e879a4ba",
   "metadata": {},
   "source": [
    "Remove any outlier data that has x_reduced.GrLivArea >= 4500 from original training dataset. Set it to sale_log\n",
    "\n",
    "take the log transformation of SalePrice. From trial and error, this improves the accuracy of the implemented methods. From the graph below, log transformation normaly distributes SalePrice. Previously SalePrice is skewed to the right \n",
    "\n",
    "Reshape the SalePrice for prediction. Set as y_train\n"
   ]
  },
  {
   "cell_type": "code",
   "execution_count": 7,
   "id": "b26de7d8",
   "metadata": {},
   "outputs": [
    {
     "data": {
      "text/plain": [
       "<AxesSubplot:>"
      ]
     },
     "execution_count": 7,
     "metadata": {},
     "output_type": "execute_result"
    },
    {
     "data": {
      "image/png": "[encoded data removed]",
      "text/plain": [
       "<Figure size 432x288 with 1 Axes>"
      ]
     },
     "metadata": {
      "needs_background": "light"
     },
     "output_type": "display_data"
    }
   ],
   "source": [
    "sale_log = train[train.GrLivArea < 4500]\n",
    "\n",
    "sale_log = np.log1p(sale_log[\"SalePrice\"])\n",
    "\n",
    "y_train = sale_log.values.reshape(-1,1)\n",
    "\n",
    "train[\"SalePrice\"].hist(bins = 40)"
   ]
  },
  {
   "cell_type": "code",
   "execution_count": 8,
   "id": "4762d3f7",
   "metadata": {},
   "outputs": [
    {
     "data": {
      "text/plain": [
       "<AxesSubplot:>"
      ]
     },
     "execution_count": 8,
     "metadata": {},
     "output_type": "execute_result"
    },
    {
     "data": {
      "image/png": "[encoded data removed]",
      "text/plain": [
       "<Figure size 432x288 with 1 Axes>"
      ]
     },
     "metadata": {
      "needs_background": "light"
     },
     "output_type": "display_data"
    }
   ],
   "source": [
    "sale_log.hist(bins = 40)"
   ]
  },
  {
   "cell_type": "markdown",
   "id": "6bf61434",
   "metadata": {},
   "source": [
    "Standardizing x variables(i.e. x_reduced dataset) with the inbuilt python packages. Calling the Standardized version Z_train"
   ]
  },
  {
   "cell_type": "code",
   "execution_count": 9,
   "id": "4d687dc6",
   "metadata": {},
   "outputs": [],
   "source": [
    "ss = StandardScaler()\n",
    "\n",
    "Z_train = ss.fit_transform(x_reduced)\n",
    "\n",
    "Z_train = pd.DataFrame(ss.transform(x_reduced), columns=x_reduced.columns)"
   ]
  },
  {
   "cell_type": "markdown",
   "id": "4be35fe7",
   "metadata": {},
   "source": [
    "Ridge regression using cross validation to find an optimal alpha with the inbuilt packages provided by python\n",
    "\n",
    "RidgeCV will find an optimal alpha from r_alphas using neg_mean_squared_error for scoring\n",
    "\n",
    "fit the model using Z_train and y_train, set this as ridge\n",
    "\n",
    "(For this project, Lasso regression is not used as some manual model selection was performed prior. The most relevant predictors are already chosen)"
   ]
  },
  {
   "cell_type": "code",
   "execution_count": 10,
   "id": "03b28668",
   "metadata": {},
   "outputs": [],
   "source": [
    "r_alphas = np.logspace(0, 5, 100)\n",
    "\n",
    "ridge = RidgeCV(alphas = r_alphas, scoring='neg_mean_squared_error')\n",
    "\n",
    "ridge = ridge.fit(Z_train, y_train)"
   ]
  },
  {
   "cell_type": "markdown",
   "id": "94abda4b",
   "metadata": {},
   "source": [
    "Linear Regression with the inbuilt python package using Z_traina and y_train. Set as es"
   ]
  },
  {
   "cell_type": "code",
   "execution_count": 11,
   "id": "620d45ce",
   "metadata": {},
   "outputs": [],
   "source": [
    "es = LinearRegression().fit(Z_train, y_train)\n",
    "\n",
    "Y_pred = es.predict(Z_train)"
   ]
  },
  {
   "cell_type": "markdown",
   "id": "2b466707",
   "metadata": {},
   "source": [
    "Load the testing data set. Set as test"
   ]
  },
  {
   "cell_type": "code",
   "execution_count": 12,
   "id": "0f38b2a9",
   "metadata": {},
   "outputs": [],
   "source": [
    "test = pd.read_csv('test.csv')"
   ]
  },
  {
   "cell_type": "markdown",
   "id": "6250386f",
   "metadata": {},
   "source": [
    "MSSubClass converted to a string as it is a categorical variable\n",
    "\n",
    "Set test_string to be all categorical variables in test. Replace all NaN values with 'None'.\n",
    "\n",
    "Create Dummy variable using the data subset string. Set the new data set as dummy_test"
   ]
  },
  {
   "cell_type": "code",
   "execution_count": 13,
   "id": "a16feed7",
   "metadata": {},
   "outputs": [],
   "source": [
    "test['MSSubClass'] = test['MSSubClass'].apply(str)\n",
    "\n",
    "test_string = test.select_dtypes('object')\n",
    "test_string  = test_string.replace(np.nan,'None')\n",
    "dummy_test = pd.get_dummies(test_string)\n"
   ]
  },
  {
   "cell_type": "markdown",
   "id": "c29ef18f",
   "metadata": {},
   "source": [
    "Set test_num to be all numerical variables in test dataset\n",
    "\n",
    "Replace all NaN values with 0\n",
    "\n",
    "join test_num and dummy_test to create modified version of the testing dataset. Set this new dataset as x_test"
   ]
  },
  {
   "cell_type": "code",
   "execution_count": 14,
   "id": "5fdf09b2",
   "metadata": {},
   "outputs": [],
   "source": [
    "test_num = test.select_dtypes('number')\n",
    "test_num = test_num.replace(np.nan, 0)\n",
    "\n",
    "x_test = pd.concat([dummy_test,test_num], axis=1)"
   ]
  },
  {
   "cell_type": "markdown",
   "id": "561825a2",
   "metadata": {},
   "source": [
    "Set x_test to only include the same predictors that were selected with the manual model selection prior when creating x_reduced"
   ]
  },
  {
   "cell_type": "code",
   "execution_count": 15,
   "id": "3a202350",
   "metadata": {},
   "outputs": [],
   "source": [
    "x_test = x_test[['OverallQual','GrLivArea','GarageCars','GarageArea','TotalBsmtSF','1stFlrSF','ExterQual_TA',\n",
    "                  'BsmtQual_Ex','FullBath','TotRmsAbvGrd','KitchenQual_TA','YearBuilt','YearRemodAdd','KitchenQual_Ex',\n",
    "                  'Foundation_PConc','MasVnrArea','FireplaceQu_None','Fireplaces','ExterQual_Ex','ExterQual_Gd',\n",
    "                  'BsmtQual_TA','HeatingQC_Ex','BsmtFinType1_GLQ','GarageFinish_Fin','Neighborhood_NridgHt',\n",
    "                  'GarageFinish_Unf']]"
   ]
  },
  {
   "cell_type": "markdown",
   "id": "67b1fd9e",
   "metadata": {},
   "source": [
    "Standardizing x variables(i.e. x_test dataset) with the inbuilt python packages. Calling the Standardized version Z_test"
   ]
  },
  {
   "cell_type": "code",
   "execution_count": 16,
   "id": "cedeb1de",
   "metadata": {},
   "outputs": [],
   "source": [
    "Z_test = ss.fit_transform(x_test)\n",
    "\n",
    "Z_test = pd.DataFrame(ss.transform(x_test), columns=x_test.columns)"
   ]
  },
  {
   "cell_type": "markdown",
   "id": "004c6f0e",
   "metadata": {},
   "source": [
    "Perform predictions using the prior ridge regression and linear regression using Z_test. Set as y_ridge for ridge regression and\n",
    "y_ols for linear regression"
   ]
  },
  {
   "cell_type": "code",
   "execution_count": 17,
   "id": "67cc33cb",
   "metadata": {},
   "outputs": [],
   "source": [
    "y_ridge = ridge.predict(Z_test)\n",
    "\n",
    "y_ols = es.predict(Z_test)"
   ]
  },
  {
   "cell_type": "markdown",
   "id": "fe6624c7",
   "metadata": {},
   "source": [
    "Perform k- fold cross validation using 10 folds to compute mean absolute error from the predictions using ridge regression and linear regression\n",
    "\n",
    "Set the mean absolute error from the scores from prediction using ridge as ridge_e and the mean absolute error from the scores from prediction using linear regression as ols_e."
   ]
  },
  {
   "cell_type": "code",
   "execution_count": 18,
   "id": "000247e3",
   "metadata": {},
   "outputs": [],
   "source": [
    "model = LinearRegression()\n",
    "\n",
    "cross = KFold(n_splits = 10, random_state = 5, shuffle = True)\n",
    "\n",
    "ridge_scores = cross_val_score(model, Z_test, y_ridge, scoring = 'neg_mean_squared_error',cv = cross)\n",
    "ols_scores = cross_val_score(model, Z_test, y_ols, scoring = 'neg_mean_squared_error',cv = cross)\n",
    "\n",
    "ridge_e = np.mean(np.abs(ridge_scores))\n",
    "ols_e = np.mean(np.abs(ols_scores))"
   ]
  },
  {
   "cell_type": "markdown",
   "id": "9755a407",
   "metadata": {},
   "source": [
    "Using if else conditions find which mean absolute error was lower. The method which has the lowest error is printed with its associated error\n",
    "\n",
    "In this case, Ridge Regression is printed and so will be chosen to predict Saleprices"
   ]
  },
  {
   "cell_type": "code",
   "execution_count": 19,
   "id": "fa8657e5",
   "metadata": {},
   "outputs": [
    {
     "name": "stdout",
     "output_type": "stream",
     "text": [
      "Ridge Regression: 1.4199496293978213e-30\n"
     ]
    }
   ],
   "source": [
    "if (ridge_e < ols_e):\n",
    "    print(\"Ridge Regression: \" + str(ridge_e))\n",
    "else:\n",
    "    print(\"Linear Regression: \" + str(ols_e))"
   ]
  },
  {
   "cell_type": "markdown",
   "id": "f8f33db4",
   "metadata": {},
   "source": [
    "Small program to write to an excel file submission.csv, with the index and the prediction\n",
    "\n",
    "prediction obtained by calculating the inverse log of each y_ridge to get the predicted saleprice of each house id"
   ]
  },
  {
   "cell_type": "code",
   "execution_count": 20,
   "id": "0dde310a",
   "metadata": {},
   "outputs": [],
   "source": [
    "start_id = 1301\n",
    "count = 0\n",
    "    \n",
    "with open('submission.csv', 'w', newline= '' ) as myfile:\n",
    "    wr = csv.writer(myfile, quoting=csv.QUOTE_ALL)\n",
    "    wr.writerow(['Id','SalePrice'])\n",
    "    \n",
    "    for i in y_ridge:\n",
    "        wr.writerow([start_id+count, np.expm1(y_ridge[count][0])])\n",
    "        count+=1\n",
    "        "
   ]
  }
 ],
 "metadata": {
  "kernelspec": {
   "display_name": "Python 3 (ipykernel)",
   "language": "python",
   "name": "python3"
  },
  "language_info": {
   "codemirror_mode": {
    "name": "ipython",
    "version": 3
   },
   "file_extension": ".py",
   "mimetype": "text/x-python",
   "name": "python",
   "nbconvert_exporter": "python",
   "pygments_lexer": "ipython3",
   "version": "3.9.12"
  }
 },
 "nbformat": 4,
 "nbformat_minor": 5
}
